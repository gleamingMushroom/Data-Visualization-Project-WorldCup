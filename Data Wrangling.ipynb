{
 "cells": [
  {
   "cell_type": "code",
   "execution_count": 155,
   "metadata": {},
   "outputs": [],
   "source": [
    "import pandas as pd\n",
    "import numpy as np\n",
    "import seaborn as sns\n",
    "\n",
    "from IPython.core.interactiveshell import InteractiveShell\n",
    "InteractiveShell.ast_node_interactivity = \"all\"\n",
    "\n",
    "import warnings\n",
    "warnings.filterwarnings('ignore')"
   ]
  },
  {
   "cell_type": "code",
   "execution_count": 156,
   "metadata": {},
   "outputs": [],
   "source": [
    "import csv\n",
    "\n",
    "f = open('/Users/Mushroom/Desktop/Firearm related death.txt')\n",
    "\n",
    "data = []\n",
    "for line in f:\n",
    "    data_line = line.rstrip().split('\\t')\n",
    "    data.append(data_line)\n",
    "\n",
    "df = pd.DataFrame(data)"
   ]
  },
  {
   "cell_type": "code",
   "execution_count": 157,
   "metadata": {},
   "outputs": [
    {
     "data": {
      "text/html": [
       "<div>\n",
       "<style scoped>\n",
       "    .dataframe tbody tr th:only-of-type {\n",
       "        vertical-align: middle;\n",
       "    }\n",
       "\n",
       "    .dataframe tbody tr th {\n",
       "        vertical-align: top;\n",
       "    }\n",
       "\n",
       "    .dataframe thead th {\n",
       "        text-align: right;\n",
       "    }\n",
       "</style>\n",
       "<table border=\"1\" class=\"dataframe\">\n",
       "  <thead>\n",
       "    <tr style=\"text-align: right;\">\n",
       "      <th></th>\n",
       "      <th>0</th>\n",
       "      <th>1</th>\n",
       "      <th>2</th>\n",
       "      <th>3</th>\n",
       "      <th>4</th>\n",
       "      <th>5</th>\n",
       "      <th>6</th>\n",
       "      <th>7</th>\n",
       "      <th>8</th>\n",
       "      <th>9</th>\n",
       "    </tr>\n",
       "  </thead>\n",
       "  <tbody>\n",
       "    <tr>\n",
       "      <th>0</th>\n",
       "      <td>\"Notes\"</td>\n",
       "      <td>\"Year\"</td>\n",
       "      <td>\"Year Code\"</td>\n",
       "      <td>\"State\"</td>\n",
       "      <td>\"State Code\"</td>\n",
       "      <td>\"MCD - ICD-10 113 Cause List\"</td>\n",
       "      <td>\"MCD - ICD-10 113 Cause List Code\"</td>\n",
       "      <td>Deaths</td>\n",
       "      <td>Population</td>\n",
       "      <td>Crude Rate</td>\n",
       "    </tr>\n",
       "    <tr>\n",
       "      <th>1</th>\n",
       "      <td></td>\n",
       "      <td>\"1999\"</td>\n",
       "      <td>\"1999\"</td>\n",
       "      <td>\"Alabama\"</td>\n",
       "      <td>\"01\"</td>\n",
       "      <td>\"Intentional self-harm (suicide) by discharge ...</td>\n",
       "      <td>\"GR113-125\"</td>\n",
       "      <td>436</td>\n",
       "      <td>4430141</td>\n",
       "      <td>9.8</td>\n",
       "    </tr>\n",
       "    <tr>\n",
       "      <th>2</th>\n",
       "      <td></td>\n",
       "      <td>\"1999\"</td>\n",
       "      <td>\"1999\"</td>\n",
       "      <td>\"Alabama\"</td>\n",
       "      <td>\"01\"</td>\n",
       "      <td>\"Assault (homicide) by discharge of firearms (...</td>\n",
       "      <td>\"GR113-128\"</td>\n",
       "      <td>293</td>\n",
       "      <td>4430141</td>\n",
       "      <td>6.6</td>\n",
       "    </tr>\n",
       "    <tr>\n",
       "      <th>3</th>\n",
       "      <td></td>\n",
       "      <td>\"1999\"</td>\n",
       "      <td>\"1999\"</td>\n",
       "      <td>\"Alaska\"</td>\n",
       "      <td>\"02\"</td>\n",
       "      <td>\"Intentional self-harm (suicide) by discharge ...</td>\n",
       "      <td>\"GR113-125\"</td>\n",
       "      <td>55</td>\n",
       "      <td>624779</td>\n",
       "      <td>8.8</td>\n",
       "    </tr>\n",
       "    <tr>\n",
       "      <th>4</th>\n",
       "      <td></td>\n",
       "      <td>\"1999\"</td>\n",
       "      <td>\"1999\"</td>\n",
       "      <td>\"Alaska\"</td>\n",
       "      <td>\"02\"</td>\n",
       "      <td>\"Assault (homicide) by discharge of firearms (...</td>\n",
       "      <td>\"GR113-128\"</td>\n",
       "      <td>27</td>\n",
       "      <td>624779</td>\n",
       "      <td>4.3</td>\n",
       "    </tr>\n",
       "  </tbody>\n",
       "</table>\n",
       "</div>"
      ],
      "text/plain": [
       "         0       1            2          3             4  \\\n",
       "0  \"Notes\"  \"Year\"  \"Year Code\"    \"State\"  \"State Code\"   \n",
       "1           \"1999\"       \"1999\"  \"Alabama\"          \"01\"   \n",
       "2           \"1999\"       \"1999\"  \"Alabama\"          \"01\"   \n",
       "3           \"1999\"       \"1999\"   \"Alaska\"          \"02\"   \n",
       "4           \"1999\"       \"1999\"   \"Alaska\"          \"02\"   \n",
       "\n",
       "                                                   5  \\\n",
       "0                      \"MCD - ICD-10 113 Cause List\"   \n",
       "1  \"Intentional self-harm (suicide) by discharge ...   \n",
       "2  \"Assault (homicide) by discharge of firearms (...   \n",
       "3  \"Intentional self-harm (suicide) by discharge ...   \n",
       "4  \"Assault (homicide) by discharge of firearms (...   \n",
       "\n",
       "                                    6       7           8           9  \n",
       "0  \"MCD - ICD-10 113 Cause List Code\"  Deaths  Population  Crude Rate  \n",
       "1                         \"GR113-125\"     436     4430141         9.8  \n",
       "2                         \"GR113-128\"     293     4430141         6.6  \n",
       "3                         \"GR113-125\"      55      624779         8.8  \n",
       "4                         \"GR113-128\"      27      624779         4.3  "
      ]
     },
     "execution_count": 157,
     "metadata": {},
     "output_type": "execute_result"
    }
   ],
   "source": [
    "df.head()"
   ]
  },
  {
   "cell_type": "code",
   "execution_count": 158,
   "metadata": {},
   "outputs": [],
   "source": [
    "df.drop(df.index[0], inplace=True)"
   ]
  },
  {
   "cell_type": "code",
   "execution_count": 159,
   "metadata": {},
   "outputs": [],
   "source": [
    "df = df.rename(columns={1: 'Year',\n",
    "                   3:'State',\n",
    "                   5:'Death_Cause',\n",
    "                   7:'Deaths',\n",
    "                   8:'Population'})"
   ]
  },
  {
   "cell_type": "code",
   "execution_count": 160,
   "metadata": {},
   "outputs": [],
   "source": [
    "df2 = df[['Year', 'State', 'Death_Cause', 'Deaths', 'Population']]"
   ]
  },
  {
   "cell_type": "code",
   "execution_count": 161,
   "metadata": {},
   "outputs": [],
   "source": [
    "df2['State'] = df2['State'].str.replace('\"','')\n",
    "df2['Year'] = df2['Year'].str.replace('\"','')\n",
    "df2['Death_Cause'] = df2['Death_Cause'].str.replace('\"','')\n",
    "df2['Deaths'] = df2['Deaths'].str.replace('\"','')\n",
    "df2['Population'] = df2['Population'].str.replace('\"','')"
   ]
  },
  {
   "cell_type": "code",
   "execution_count": 162,
   "metadata": {},
   "outputs": [
    {
     "data": {
      "text/html": [
       "<div>\n",
       "<style scoped>\n",
       "    .dataframe tbody tr th:only-of-type {\n",
       "        vertical-align: middle;\n",
       "    }\n",
       "\n",
       "    .dataframe tbody tr th {\n",
       "        vertical-align: top;\n",
       "    }\n",
       "\n",
       "    .dataframe thead th {\n",
       "        text-align: right;\n",
       "    }\n",
       "</style>\n",
       "<table border=\"1\" class=\"dataframe\">\n",
       "  <thead>\n",
       "    <tr style=\"text-align: right;\">\n",
       "      <th></th>\n",
       "      <th>Year</th>\n",
       "      <th>State</th>\n",
       "      <th>Death_Cause</th>\n",
       "      <th>Deaths</th>\n",
       "      <th>Population</th>\n",
       "    </tr>\n",
       "  </thead>\n",
       "  <tbody>\n",
       "    <tr>\n",
       "      <th>1</th>\n",
       "      <td>1999</td>\n",
       "      <td>Alabama</td>\n",
       "      <td>Intentional self-harm (suicide) by discharge o...</td>\n",
       "      <td>436</td>\n",
       "      <td>4430141</td>\n",
       "    </tr>\n",
       "    <tr>\n",
       "      <th>2</th>\n",
       "      <td>1999</td>\n",
       "      <td>Alabama</td>\n",
       "      <td>Assault (homicide) by discharge of firearms (*...</td>\n",
       "      <td>293</td>\n",
       "      <td>4430141</td>\n",
       "    </tr>\n",
       "    <tr>\n",
       "      <th>3</th>\n",
       "      <td>1999</td>\n",
       "      <td>Alaska</td>\n",
       "      <td>Intentional self-harm (suicide) by discharge o...</td>\n",
       "      <td>55</td>\n",
       "      <td>624779</td>\n",
       "    </tr>\n",
       "    <tr>\n",
       "      <th>4</th>\n",
       "      <td>1999</td>\n",
       "      <td>Alaska</td>\n",
       "      <td>Assault (homicide) by discharge of firearms (*...</td>\n",
       "      <td>27</td>\n",
       "      <td>624779</td>\n",
       "    </tr>\n",
       "    <tr>\n",
       "      <th>5</th>\n",
       "      <td>1999</td>\n",
       "      <td>Arizona</td>\n",
       "      <td>Intentional self-harm (suicide) by discharge o...</td>\n",
       "      <td>477</td>\n",
       "      <td>5023823</td>\n",
       "    </tr>\n",
       "  </tbody>\n",
       "</table>\n",
       "</div>"
      ],
      "text/plain": [
       "   Year    State                                        Death_Cause Deaths  \\\n",
       "1  1999  Alabama  Intentional self-harm (suicide) by discharge o...    436   \n",
       "2  1999  Alabama  Assault (homicide) by discharge of firearms (*...    293   \n",
       "3  1999   Alaska  Intentional self-harm (suicide) by discharge o...     55   \n",
       "4  1999   Alaska  Assault (homicide) by discharge of firearms (*...     27   \n",
       "5  1999  Arizona  Intentional self-harm (suicide) by discharge o...    477   \n",
       "\n",
       "  Population  \n",
       "1    4430141  \n",
       "2    4430141  \n",
       "3     624779  \n",
       "4     624779  \n",
       "5    5023823  "
      ]
     },
     "execution_count": 162,
     "metadata": {},
     "output_type": "execute_result"
    }
   ],
   "source": [
    "df2.head()"
   ]
  },
  {
   "cell_type": "code",
   "execution_count": 163,
   "metadata": {},
   "outputs": [
    {
     "data": {
      "text/plain": [
       "Year           82\n",
       "State          82\n",
       "Death_Cause    82\n",
       "Deaths         82\n",
       "Population     82\n",
       "dtype: int64"
      ]
     },
     "execution_count": 163,
     "metadata": {},
     "output_type": "execute_result"
    }
   ],
   "source": [
    "df2.isnull().sum()"
   ]
  },
  {
   "cell_type": "code",
   "execution_count": 164,
   "metadata": {},
   "outputs": [],
   "source": [
    "df2 = df2.dropna()"
   ]
  },
  {
   "cell_type": "code",
   "execution_count": 165,
   "metadata": {},
   "outputs": [
    {
     "data": {
      "text/plain": [
       "Year           object\n",
       "State          object\n",
       "Death_Cause    object\n",
       "Deaths         object\n",
       "Population     object\n",
       "dtype: object"
      ]
     },
     "execution_count": 165,
     "metadata": {},
     "output_type": "execute_result"
    }
   ],
   "source": [
    "df2.dtypes"
   ]
  },
  {
   "cell_type": "code",
   "execution_count": 166,
   "metadata": {},
   "outputs": [],
   "source": [
    "df2['State'] = df2['State'].astype(np.str)\n",
    "df2['Year'] = df2['Year'].astype(np.str)\n",
    "df2['Death_Cause'] = df2['Death_Cause'].astype(np.str)\n",
    "df2['Deaths'] = df2['Deaths'].astype(np.int)\n",
    "df2['Population'] = df2['Population'].astype(np.int)"
   ]
  },
  {
   "cell_type": "code",
   "execution_count": 167,
   "metadata": {},
   "outputs": [],
   "source": [
    "df2 = df2.replace('Intentional self-harm (suicide) by discharge of firearms (X72-X74)', 'suicide').replace(\n",
    "    'Assault (homicide) by discharge of firearms (*U01.4,X93-X95)', 'homicide')"
   ]
  },
  {
   "cell_type": "markdown",
   "metadata": {},
   "source": [
    "Create a new variable -- death rate per 100,000 people"
   ]
  },
  {
   "cell_type": "code",
   "execution_count": 168,
   "metadata": {},
   "outputs": [],
   "source": [
    "df2['Death_Rate'] = (df2['Deaths']/df2['Population'])*100000"
   ]
  },
  {
   "cell_type": "code",
   "execution_count": 169,
   "metadata": {},
   "outputs": [
    {
     "data": {
      "text/html": [
       "<div>\n",
       "<style scoped>\n",
       "    .dataframe tbody tr th:only-of-type {\n",
       "        vertical-align: middle;\n",
       "    }\n",
       "\n",
       "    .dataframe tbody tr th {\n",
       "        vertical-align: top;\n",
       "    }\n",
       "\n",
       "    .dataframe thead th {\n",
       "        text-align: right;\n",
       "    }\n",
       "</style>\n",
       "<table border=\"1\" class=\"dataframe\">\n",
       "  <thead>\n",
       "    <tr style=\"text-align: right;\">\n",
       "      <th></th>\n",
       "      <th>Year</th>\n",
       "      <th>State</th>\n",
       "      <th>Death_Cause</th>\n",
       "      <th>Deaths</th>\n",
       "      <th>Population</th>\n",
       "      <th>Death_Rate</th>\n",
       "    </tr>\n",
       "  </thead>\n",
       "  <tbody>\n",
       "    <tr>\n",
       "      <th>1</th>\n",
       "      <td>1999</td>\n",
       "      <td>Alabama</td>\n",
       "      <td>suicide</td>\n",
       "      <td>436</td>\n",
       "      <td>4430141</td>\n",
       "      <td>9.841673</td>\n",
       "    </tr>\n",
       "    <tr>\n",
       "      <th>2</th>\n",
       "      <td>1999</td>\n",
       "      <td>Alabama</td>\n",
       "      <td>homicide</td>\n",
       "      <td>293</td>\n",
       "      <td>4430141</td>\n",
       "      <td>6.613785</td>\n",
       "    </tr>\n",
       "    <tr>\n",
       "      <th>3</th>\n",
       "      <td>1999</td>\n",
       "      <td>Alaska</td>\n",
       "      <td>suicide</td>\n",
       "      <td>55</td>\n",
       "      <td>624779</td>\n",
       "      <td>8.803113</td>\n",
       "    </tr>\n",
       "    <tr>\n",
       "      <th>4</th>\n",
       "      <td>1999</td>\n",
       "      <td>Alaska</td>\n",
       "      <td>homicide</td>\n",
       "      <td>27</td>\n",
       "      <td>624779</td>\n",
       "      <td>4.321528</td>\n",
       "    </tr>\n",
       "    <tr>\n",
       "      <th>5</th>\n",
       "      <td>1999</td>\n",
       "      <td>Arizona</td>\n",
       "      <td>suicide</td>\n",
       "      <td>477</td>\n",
       "      <td>5023823</td>\n",
       "      <td>9.494761</td>\n",
       "    </tr>\n",
       "  </tbody>\n",
       "</table>\n",
       "</div>"
      ],
      "text/plain": [
       "   Year    State Death_Cause  Deaths  Population  Death_Rate\n",
       "1  1999  Alabama     suicide     436     4430141    9.841673\n",
       "2  1999  Alabama    homicide     293     4430141    6.613785\n",
       "3  1999   Alaska     suicide      55      624779    8.803113\n",
       "4  1999   Alaska    homicide      27      624779    4.321528\n",
       "5  1999  Arizona     suicide     477     5023823    9.494761"
      ]
     },
     "execution_count": 169,
     "metadata": {},
     "output_type": "execute_result"
    }
   ],
   "source": [
    "df2.head()"
   ]
  },
  {
   "cell_type": "code",
   "execution_count": 154,
   "metadata": {},
   "outputs": [],
   "source": [
    "df2.to_csv(\"homicide_suicide_deaths.csv\", encoding='utf-8')\n",
    "df3 = df2.groupby(['Year','Death_Cause'])['Death_Rate'].mean()\n",
    "df3.to_csv(\"homicide_suicide_deaths_rate.csv\", encoding='utf-8')\n",
    "df4 = df2.groupby(['Year','Death_Cause'])['Deaths'].sum()\n",
    "df4.to_csv(\"homicide_suicide_deaths_groupby.csv\", encoding='utf-8')"
   ]
  }
 ],
 "metadata": {
  "kernelspec": {
   "display_name": "Python 3",
   "language": "python",
   "name": "python3"
  },
  "language_info": {
   "codemirror_mode": {
    "name": "ipython",
    "version": 3
   },
   "file_extension": ".py",
   "mimetype": "text/x-python",
   "name": "python",
   "nbconvert_exporter": "python",
   "pygments_lexer": "ipython3",
   "version": "3.6.4"
  }
 },
 "nbformat": 4,
 "nbformat_minor": 2
}
